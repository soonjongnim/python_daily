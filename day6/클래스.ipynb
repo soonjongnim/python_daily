{
 "cells": [
  {
   "cell_type": "markdown",
   "metadata": {},
   "source": [
    "# 객체지향 "
   ]
  },
  {
   "cell_type": "markdown",
   "metadata": {},
   "source": [
    "### 클래스"
   ]
  },
  {
   "cell_type": "code",
   "execution_count": 2,
   "metadata": {},
   "outputs": [],
   "source": [
    "class Calculator:\n",
    "    def set(self,x,y):\n",
    "        self.first = x\n",
    "        self.second = y\n",
    "        \n",
    "    def add(self):\n",
    "        result = self.first + self.second\n",
    "        return result\n",
    "    "
   ]
  },
  {
   "cell_type": "code",
   "execution_count": 12,
   "metadata": {},
   "outputs": [
    {
     "data": {
      "text/plain": [
       "2656626590552"
      ]
     },
     "execution_count": 12,
     "metadata": {},
     "output_type": "execute_result"
    }
   ],
   "source": [
    "cal1 = Calculator()\n",
    "type(cal1)\n",
    "id(cal1)"
   ]
  },
  {
   "cell_type": "code",
   "execution_count": 31,
   "metadata": {},
   "outputs": [
    {
     "name": "stdout",
     "output_type": "stream",
     "text": [
      "10 + 20 = 30\n"
     ]
    }
   ],
   "source": [
    "cal1.set(10,20)\n",
    "print(cal1.first, '+', cal1.second, '=', cal1.add())"
   ]
  },
  {
   "cell_type": "code",
   "execution_count": 26,
   "metadata": {},
   "outputs": [],
   "source": [
    "cal1.set(100,200)"
   ]
  },
  {
   "cell_type": "code",
   "execution_count": 27,
   "metadata": {},
   "outputs": [
    {
     "name": "stdout",
     "output_type": "stream",
     "text": [
      "100 + 200 = 300\n"
     ]
    }
   ],
   "source": [
    "print(cal1.first, '+', cal1.second, '=', cal1.add())"
   ]
  },
  {
   "cell_type": "code",
   "execution_count": 20,
   "metadata": {},
   "outputs": [
    {
     "data": {
      "text/plain": [
       "2656626590328"
      ]
     },
     "execution_count": 20,
     "metadata": {},
     "output_type": "execute_result"
    }
   ],
   "source": [
    "cal1 = Calculator()\n",
    "id(cal1)"
   ]
  },
  {
   "cell_type": "code",
   "execution_count": 29,
   "metadata": {},
   "outputs": [
    {
     "data": {
      "text/plain": [
       "2656626590328"
      ]
     },
     "execution_count": 29,
     "metadata": {},
     "output_type": "execute_result"
    }
   ],
   "source": [
    "cal2 = cal1\n",
    "id(cal2)"
   ]
  },
  {
   "cell_type": "code",
   "execution_count": 32,
   "metadata": {},
   "outputs": [
    {
     "name": "stdout",
     "output_type": "stream",
     "text": [
      "10 + 20 = 30\n"
     ]
    }
   ],
   "source": [
    "print(cal1.first, '+', cal1.second, '=', cal1.add())"
   ]
  },
  {
   "cell_type": "markdown",
   "metadata": {},
   "source": [
    "Hospital 이름, 주소, 의사 수"
   ]
  },
  {
   "cell_type": "code",
   "execution_count": 37,
   "metadata": {},
   "outputs": [],
   "source": [
    "class Hospital:\n",
    "    def setname(self, name):\n",
    "        self.name = name\n",
    "        \n",
    "    def setaddress(self, addr):\n",
    "        self.address = addr\n",
    "    \n",
    "    def getname(self):\n",
    "        return self.name\n",
    "    \n",
    "    def getaddress(self):\n",
    "        return self.address"
   ]
  },
  {
   "cell_type": "code",
   "execution_count": 39,
   "metadata": {},
   "outputs": [],
   "source": [
    "jejuHospital = Hospital()\n",
    "seoulHospital = Hospital()"
   ]
  },
  {
   "cell_type": "code",
   "execution_count": 41,
   "metadata": {},
   "outputs": [],
   "source": [
    "jejuHospital.setname('제주병원')\n",
    "jejuHospital.setaddress('제주시 제주동')"
   ]
  },
  {
   "cell_type": "code",
   "execution_count": 42,
   "metadata": {},
   "outputs": [],
   "source": [
    "seoulHospital.setname('서울병원')\n",
    "seoulHospital.setaddress('서울시 강남동')"
   ]
  },
  {
   "cell_type": "code",
   "execution_count": 47,
   "metadata": {},
   "outputs": [
    {
     "name": "stdout",
     "output_type": "stream",
     "text": [
      "제주병원\n",
      "제주시 제주동\n"
     ]
    }
   ],
   "source": [
    "print(jejuHospital.getname())\n",
    "print(jejuHospital.getaddress())"
   ]
  },
  {
   "cell_type": "code",
   "execution_count": 48,
   "metadata": {},
   "outputs": [
    {
     "name": "stdout",
     "output_type": "stream",
     "text": [
      "서울병원\n",
      "서울시 강남동\n"
     ]
    }
   ],
   "source": [
    "print(seoulHospital.getname())\n",
    "print(seoulHospital.getaddress())"
   ]
  },
  {
   "cell_type": "markdown",
   "metadata": {},
   "source": [
    "### 생성자"
   ]
  },
  {
   "cell_type": "code",
   "execution_count": 54,
   "metadata": {},
   "outputs": [],
   "source": [
    "class Hospital:\n",
    "    \n",
    "    def __init__(self, name, addr):\n",
    "        self.__name = name\n",
    "        self.address = addr\n",
    "        \n",
    "    def setname(self, name):\n",
    "        self.name = name\n",
    "        \n",
    "    def setaddress(self, addr):\n",
    "        self.address = addr\n",
    "    \n",
    "    def getinfo(self):\n",
    "        return self.__name, self.address\n",
    "    \n",
    "#     def __del__(self):\n",
    "#         print(self.name)\n",
    "#         return self.name\n"
   ]
  },
  {
   "cell_type": "code",
   "execution_count": 55,
   "metadata": {},
   "outputs": [],
   "source": [
    "seoulHospital = Hospital('서울종합병원', '서울시 대치동')"
   ]
  },
  {
   "cell_type": "code",
   "execution_count": 56,
   "metadata": {},
   "outputs": [
    {
     "name": "stdout",
     "output_type": "stream",
     "text": [
      "서울시 대치동\n"
     ]
    }
   ],
   "source": [
    "print(seoulHospital.getinfo()[1])"
   ]
  },
  {
   "cell_type": "code",
   "execution_count": 21,
   "metadata": {},
   "outputs": [],
   "source": [
    "del seoulHospital"
   ]
  },
  {
   "cell_type": "markdown",
   "metadata": {},
   "source": [
    "#### 인스턴트성과 비공개성"
   ]
  },
  {
   "cell_type": "code",
   "execution_count": 50,
   "metadata": {},
   "outputs": [
    {
     "name": "stdout",
     "output_type": "stream",
     "text": [
      "addd\n",
      "aaa\n"
     ]
    }
   ],
   "source": [
    "print(seoulHospital.__name)\n",
    "seoulHospital.name = 'aaa'\n",
    "print(seoulHospital.name)"
   ]
  },
  {
   "cell_type": "markdown",
   "metadata": {},
   "source": [
    "#### __속성 앞에 __ 붙이면 숨긴다."
   ]
  },
  {
   "cell_type": "code",
   "execution_count": 52,
   "metadata": {},
   "outputs": [],
   "source": [
    "seoulHospital.__name = 'addd'"
   ]
  },
  {
   "cell_type": "code",
   "execution_count": 57,
   "metadata": {},
   "outputs": [
    {
     "ename": "AttributeError",
     "evalue": "'Hospital' object has no attribute '__name'",
     "output_type": "error",
     "traceback": [
      "\u001b[1;31m---------------------------------------------------------------------------\u001b[0m",
      "\u001b[1;31mAttributeError\u001b[0m                            Traceback (most recent call last)",
      "\u001b[1;32m<ipython-input-57-5734b21ebb86>\u001b[0m in \u001b[0;36m<module>\u001b[1;34m\u001b[0m\n\u001b[1;32m----> 1\u001b[1;33m \u001b[0mseoulHospital\u001b[0m\u001b[1;33m.\u001b[0m\u001b[0m__name\u001b[0m\u001b[1;33m\u001b[0m\u001b[1;33m\u001b[0m\u001b[0m\n\u001b[0m",
      "\u001b[1;31mAttributeError\u001b[0m: 'Hospital' object has no attribute '__name'"
     ]
    }
   ],
   "source": [
    "seoulHospital.__name"
   ]
  },
  {
   "cell_type": "code",
   "execution_count": 58,
   "metadata": {},
   "outputs": [
    {
     "ename": "AttributeError",
     "evalue": "'Hospital' object has no attribute 'name'",
     "output_type": "error",
     "traceback": [
      "\u001b[1;31m---------------------------------------------------------------------------\u001b[0m",
      "\u001b[1;31mAttributeError\u001b[0m                            Traceback (most recent call last)",
      "\u001b[1;32m<ipython-input-58-9c98e64a8ee1>\u001b[0m in \u001b[0;36m<module>\u001b[1;34m\u001b[0m\n\u001b[1;32m----> 1\u001b[1;33m \u001b[0mseoulHospital\u001b[0m\u001b[1;33m.\u001b[0m\u001b[0mname\u001b[0m\u001b[1;33m\u001b[0m\u001b[1;33m\u001b[0m\u001b[0m\n\u001b[0m",
      "\u001b[1;31mAttributeError\u001b[0m: 'Hospital' object has no attribute 'name'"
     ]
    }
   ],
   "source": [
    "seoulHospital.name"
   ]
  },
  {
   "cell_type": "code",
   "execution_count": 5,
   "metadata": {},
   "outputs": [],
   "source": [
    "class Person:\n",
    "    bag = []  # imutable  같은 주소에서 공유\n",
    "#     bag = str()  # mutable 이것은 다른 주소가 됨.\n",
    "    \n",
    "    def put_bag(self, stuff):\n",
    "#         self.bag.append(stuff)\n",
    "        Person.bag.append(stuff) # 이렇게 쓰는것을 권장함.(같은것끼리 공유되기에)\n"
   ]
  },
  {
   "cell_type": "code",
   "execution_count": 6,
   "metadata": {},
   "outputs": [
    {
     "name": "stdout",
     "output_type": "stream",
     "text": [
      "2265877768520\n",
      "2265877768520\n",
      "['책', '열쇠']\n"
     ]
    }
   ],
   "source": [
    "james = Person()\n",
    "james.put_bag('책')\n",
    "\n",
    "mario = Person()\n",
    "mario.put_bag('열쇠')\n",
    "\n",
    "print(id(james.bag))\n",
    "print(id(mario.bag))\n",
    "print(Person.bag)"
   ]
  },
  {
   "cell_type": "code",
   "execution_count": 13,
   "metadata": {},
   "outputs": [
    {
     "data": {
      "text/plain": [
       "['책', '열쇠']"
      ]
     },
     "execution_count": 13,
     "metadata": {},
     "output_type": "execute_result"
    }
   ],
   "source": [
    "dir(Person)\n",
    "Person.__dict__\n",
    "Person.__dict__['bag']"
   ]
  },
  {
   "cell_type": "code",
   "execution_count": 19,
   "metadata": {},
   "outputs": [],
   "source": [
    "class Person:\n",
    "    bag = []  # imutable  같은 주소에서 공유\n",
    "#     bag = str()  # mutable 이것은 다른 주소가 됨.\n",
    "    def __init__(self):\n",
    "        self.bag = [] # 각각 리스트 주소를 만들어 사용.\n",
    "        \n",
    "    def put_bag(self, stuff):\n",
    "        self.bag.append(stuff)\n",
    "#         Person.bag.append(stuff)"
   ]
  },
  {
   "cell_type": "code",
   "execution_count": 20,
   "metadata": {},
   "outputs": [
    {
     "name": "stdout",
     "output_type": "stream",
     "text": [
      "2265892605832\n",
      "2265892682824\n",
      "['책']\n",
      "['열쇠']\n"
     ]
    }
   ],
   "source": [
    "james = Person()\n",
    "james.put_bag('책')\n",
    "\n",
    "mario = Person()\n",
    "mario.put_bag('열쇠')\n",
    "\n",
    "print(id(james.bag))\n",
    "print(id(mario.bag))\n",
    "print(james.bag)\n",
    "print(mario.bag)"
   ]
  },
  {
   "cell_type": "code",
   "execution_count": 40,
   "metadata": {},
   "outputs": [],
   "source": [
    "class MyClass:\n",
    "    number = 100 # 클래스 속성\n",
    "     \n",
    "    def inc_10(self):\n",
    "        MyClass.number += 10\n",
    "    def inc_20(self):\n",
    "        MyClass.number += 20"
   ]
  },
  {
   "cell_type": "code",
   "execution_count": 41,
   "metadata": {},
   "outputs": [
    {
     "name": "stdout",
     "output_type": "stream",
     "text": [
      "110\n"
     ]
    },
    {
     "data": {
      "text/plain": [
       "2265894410616"
      ]
     },
     "execution_count": 41,
     "metadata": {},
     "output_type": "execute_result"
    }
   ],
   "source": [
    "obj1 = MyClass()\n",
    "obj1.inc_10() \n",
    "print(obj1.number)\n",
    "id(obj1)"
   ]
  },
  {
   "cell_type": "code",
   "execution_count": 42,
   "metadata": {},
   "outputs": [
    {
     "name": "stdout",
     "output_type": "stream",
     "text": [
      "130\n"
     ]
    },
    {
     "data": {
      "text/plain": [
       "2265894410672"
      ]
     },
     "execution_count": 42,
     "metadata": {},
     "output_type": "execute_result"
    }
   ],
   "source": [
    "obj2 = MyClass()\n",
    "obj2.inc_20()\n",
    "print(obj2.number)\n",
    "id(obj2)"
   ]
  },
  {
   "cell_type": "code",
   "execution_count": 44,
   "metadata": {},
   "outputs": [],
   "source": [
    "class MyClass: \n",
    "    def __init__(self,number):\n",
    "        self.number = number # 인스턴스 속성\n",
    "    def inc_10(self):\n",
    "        self.number += 10\n",
    "    def inc_20(self):\n",
    "        self.number += 20"
   ]
  },
  {
   "cell_type": "code",
   "execution_count": 49,
   "metadata": {},
   "outputs": [
    {
     "name": "stdout",
     "output_type": "stream",
     "text": [
      "130\n"
     ]
    },
    {
     "data": {
      "text/plain": [
       "2265893545296"
      ]
     },
     "execution_count": 49,
     "metadata": {},
     "output_type": "execute_result"
    }
   ],
   "source": [
    "obj1 = MyClass(100)\n",
    "obj1.inc_10()\n",
    "obj1.inc_20()\n",
    "print(obj1.number)\n",
    "id(obj1)"
   ]
  },
  {
   "cell_type": "code",
   "execution_count": 50,
   "metadata": {},
   "outputs": [
    {
     "name": "stdout",
     "output_type": "stream",
     "text": [
      "230\n"
     ]
    },
    {
     "data": {
      "text/plain": [
       "2265893546920"
      ]
     },
     "execution_count": 50,
     "metadata": {},
     "output_type": "execute_result"
    }
   ],
   "source": [
    "obj2 = MyClass(200)\n",
    "obj2.inc_10()\n",
    "obj2.inc_20()\n",
    "print(obj2.number)\n",
    "id(obj2)"
   ]
  },
  {
   "cell_type": "markdown",
   "metadata": {},
   "source": [
    "### 상속"
   ]
  },
  {
   "cell_type": "code",
   "execution_count": 51,
   "metadata": {},
   "outputs": [],
   "source": [
    "class Person:\n",
    "    def greeting(self):\n",
    "        print(\"안녕하세요\")\n",
    "        \n",
    "class Student(Person):\n",
    "    def study(self):\n",
    "        print(\"공부하기\")"
   ]
  },
  {
   "cell_type": "code",
   "execution_count": 53,
   "metadata": {},
   "outputs": [
    {
     "name": "stdout",
     "output_type": "stream",
     "text": [
      "안녕하세요\n",
      "공부하기\n"
     ]
    }
   ],
   "source": [
    "james = Student()\n",
    "james.greeting()\n",
    "james.study()"
   ]
  },
  {
   "cell_type": "code",
   "execution_count": 101,
   "metadata": {},
   "outputs": [],
   "source": [
    "class Animal:\n",
    "    def __init__(self, name):\n",
    "        self.name = name\n",
    "        \n",
    "    def printName(self):\n",
    "        print(self.name)\n",
    "        \n",
    "        \n",
    "class Dog(Animal):\n",
    "    def __init__(self, name, sound):\n",
    "        super().__init__(name)\n",
    "        self.sound = sound\n",
    "    \n",
    "    def printSound(self):\n",
    "        print(self.sound)\n",
    "        "
   ]
  },
  {
   "cell_type": "code",
   "execution_count": 102,
   "metadata": {},
   "outputs": [
    {
     "name": "stdout",
     "output_type": "stream",
     "text": [
      "행복이\n",
      "멍멍~~~\n",
      "행복이2\n",
      "멍멍2~~~\n",
      "행복이3\n",
      "멍멍3~~~\n"
     ]
    }
   ],
   "source": [
    "dog1 = Dog('행복이', '멍멍~~~')\n",
    "dog1.printName()\n",
    "dog1.printSound()\n",
    "dog2 = Dog('행복이2', '멍멍2~~~')\n",
    "dog2.printName()\n",
    "dog2.printSound()\n",
    "dog3 = Dog('행복이3', '멍멍3~~~')\n",
    "dog3.printName()\n",
    "dog3.printSound()"
   ]
  },
  {
   "cell_type": "code",
   "execution_count": 74,
   "metadata": {},
   "outputs": [],
   "source": [
    "class DogList():\n",
    "    def __init__(self):\n",
    "        self.dog_list = []\n",
    "        \n",
    "    def append_dog(self, dog):\n",
    "        elf.dog_list.append(dog)"
   ]
  },
  {
   "cell_type": "code",
   "execution_count": 77,
   "metadata": {},
   "outputs": [],
   "source": [
    "dogs = DogList()\n",
    "dogs.append_dog(dog1)\n",
    "dogs.append_dog(dog2)\n",
    "dogs.append_dog(dog3)"
   ]
  },
  {
   "cell_type": "code",
   "execution_count": 103,
   "metadata": {},
   "outputs": [
    {
     "name": "stdout",
     "output_type": "stream",
     "text": [
      "<__main__.Dog object at 0x0000020F91F13710>\n"
     ]
    }
   ],
   "source": [
    "print(dogs.dog_list[0])"
   ]
  },
  {
   "cell_type": "code",
   "execution_count": 114,
   "metadata": {},
   "outputs": [],
   "source": [
    "import math\n",
    "\n",
    "class Circle:\n",
    "    def __init__(self, radius):\n",
    "        self.radius = radius\n",
    "        \n",
    "    def getArea(self):\n",
    "        area = math.pi * self.radius * self.radius\n",
    "        return area\n",
    "    \n",
    "    def getCircum(self):\n",
    "        circum = 2 * 3.141592 * self.radius\n",
    "        return circum"
   ]
  },
  {
   "cell_type": "code",
   "execution_count": 116,
   "metadata": {},
   "outputs": [
    {
     "name": "stdout",
     "output_type": "stream",
     "text": [
      "반지름: 10\n",
      "원의 면적: 314.16\n",
      "원주의 길이: 62.83\n"
     ]
    }
   ],
   "source": [
    "cir = Circle(10)\n",
    "print('반지름: %d' %cir.radius)\n",
    "print('원의 면적: %.2f' %cir.getArea())\n",
    "print('원주의 길이: %.2f' %cir.getCircum())"
   ]
  },
  {
   "cell_type": "code",
   "execution_count": 118,
   "metadata": {},
   "outputs": [],
   "source": [
    "class SumAvg:\n",
    "    title = '-3과목 합계와 평균'\n",
    "    def __init__(self, name, kor, eng, math):\n",
    "        self.name = name\n",
    "        self.kor = kor\n",
    "        self.eng = eng\n",
    "        self.math = math\n",
    "        \n",
    "    def getSum(self):\n",
    "        sum = self.kor + self.eng + self.math\n",
    "        return sum\n",
    "    "
   ]
  },
  {
   "cell_type": "code",
   "execution_count": 120,
   "metadata": {},
   "outputs": [
    {
     "name": "stdout",
     "output_type": "stream",
     "text": [
      "이름: 김성윤\n",
      "국어: 85, 영어: 90, 수학: 83\n",
      "합계: 258, 평균: 86.00\n"
     ]
    }
   ],
   "source": [
    "s1 = SumAvg('김성윤', 85, 90, 83)\n",
    "print('이름: %s' %s1.name)\n",
    "print(f'국어: {s1.kor}, 영어: {s1.eng}, 수학: {s1.math}')\n",
    "print('합계: %d, 평균: %.2f' %(s1.getSum(), (s1.getSum() / 3) ))"
   ]
  },
  {
   "cell_type": "code",
   "execution_count": 123,
   "metadata": {},
   "outputs": [],
   "source": [
    "class Calculator:\n",
    "    def __init__(self, num1, num2):\n",
    "        self.num1 = num1\n",
    "        self.num2 = num2\n",
    "        \n",
    "    def add(self):\n",
    "        return self.num1 + self.num2\n",
    "    \n",
    "    def sub(self):\n",
    "        return self.num1 - self.num2\n",
    "    \n",
    "    def mul(self):\n",
    "        return self.num1 * self.num2\n",
    "    \n",
    "    def div(self):\n",
    "        return self.num1 / self.num2"
   ]
  },
  {
   "cell_type": "code",
   "execution_count": 127,
   "metadata": {},
   "outputs": [
    {
     "name": "stdin",
     "output_type": "stream",
     "text": [
      "첫번째 수를 입력하세요: 10\n",
      "두번째 수를 입력하세요: 20\n"
     ]
    },
    {
     "name": "stdout",
     "output_type": "stream",
     "text": [
      "10 - 20 = -10\n",
      "10 / 20 = 0.5\n"
     ]
    }
   ],
   "source": [
    "a = int(input('첫번째 수를 입력하세요:'))\n",
    "b = int(input('두번째 수를 입력하세요:'))\n",
    "\n",
    "cal1 = Calculator(a,b)\n",
    "print('%d - %d = %d' %(a,b, cal1.sub()))\n",
    "print('%d / %d = %.1f' %(a,b, cal1.div()))"
   ]
  },
  {
   "cell_type": "code",
   "execution_count": 128,
   "metadata": {},
   "outputs": [],
   "source": [
    "class Person:\n",
    "    def __init__(self, info):\n",
    "        self.info = info\n",
    "        \n",
    "    def getName(self):\n",
    "        return self.info[0]\n",
    "    \n",
    "    def getEmail(self):\n",
    "        return self.info[1]\n",
    "    \n",
    "    def getPhoneNum(self):\n",
    "        return self.info[2]"
   ]
  },
  {
   "cell_type": "code",
   "execution_count": 129,
   "metadata": {},
   "outputs": [
    {
     "name": "stdout",
     "output_type": "stream",
     "text": [
      "성명: 김지혜\n",
      "이메일: rubato@hanmail.net\n",
      "전화번호: 010-1234-4567\n"
     ]
    }
   ],
   "source": [
    "info = ['김지혜', 'rubato@hanmail.net', '010-1234-4567']\n",
    "person = Person(info)\n",
    "\n",
    "print('성명: %s' %person.getName())\n",
    "print('이메일: %s' %person.getEmail())\n",
    "print('전화번호: %s' %person.getPhoneNum())"
   ]
  },
  {
   "cell_type": "code",
   "execution_count": 134,
   "metadata": {},
   "outputs": [],
   "source": [
    "class EngSentence:\n",
    "    def __init__(self, sentence):\n",
    "        self.sentence = sentence\n",
    "        self.length = len(sentence)\n",
    "        \n",
    "    def reverse(self):\n",
    "        tmp = ''\n",
    "        for i in range(self.length):\n",
    "            tmp += (self.sentence[-i-1])\n",
    "        return tmp\n",
    "    \n",
    "    def insertHypen(self):\n",
    "        tmp = ''\n",
    "        for i in range(self.length):\n",
    "            if self.sentence[i] == \" \":\n",
    "                tmp += '-'\n",
    "            else:\n",
    "                tmp += self.sentence[i]\n",
    "                \n",
    "        return tmp"
   ]
  },
  {
   "cell_type": "code",
   "execution_count": 135,
   "metadata": {},
   "outputs": [
    {
     "name": "stdout",
     "output_type": "stream",
     "text": [
      "역순: !snoipmahc eht era eW\n",
      "하이픈(-) 삽입: We-are-the-champions!\n"
     ]
    }
   ],
   "source": [
    "a = 'We are the champions!'\n",
    "eng1 = EngSentence(a)\n",
    "print('역순: %s' %eng1.reverse())\n",
    "print('하이픈(-) 삽입: %s' %eng1.insertHypen())"
   ]
  },
  {
   "cell_type": "code",
   "execution_count": 144,
   "metadata": {},
   "outputs": [],
   "source": [
    "class Person:\n",
    "    def __init__(self,name,age):\n",
    "        self.name = name\n",
    "        self.age = age\n",
    "        \n",
    "    def printInfo(self):\n",
    "        print('이름: %s, 나이: %d' %(self.name, self.age))\n",
    "        \n",
    "    def getInfo(self):\n",
    "        return self.name + ', ' + str(self.age)\n",
    "    \n",
    "\n",
    "class Student(Person):\n",
    "    def __init__(self, name, age, department, id):\n",
    "        super().__init__(name, age)\n",
    "        self.department = department\n",
    "        self.id = id\n",
    "        \n",
    "    def printInfo(self):\n",
    "        super().printInfo()\n",
    "        print(self.getInfo())\n",
    "        \n",
    "    def printStudentInfo(self):\n",
    "        print(f'{self.name}님의 학과: {self.department}, 학번: {self.id}')"
   ]
  },
  {
   "cell_type": "code",
   "execution_count": 145,
   "metadata": {},
   "outputs": [
    {
     "name": "stdout",
     "output_type": "stream",
     "text": [
      "이름: 홍지수, 나이: 20\n",
      "홍지수, 20\n",
      "홍지수님의 학과: 소프트웨어공학과, 학번: 20215550001\n"
     ]
    }
   ],
   "source": [
    "x = Student('홍지수', 20, '소프트웨어공학과', '20215550001')\n",
    "x.printInfo()\n",
    "x.printStudentInfo()"
   ]
  },
  {
   "cell_type": "code",
   "execution_count": null,
   "metadata": {},
   "outputs": [],
   "source": []
  }
 ],
 "metadata": {
  "kernelspec": {
   "display_name": "Python 3",
   "language": "python",
   "name": "python3"
  },
  "language_info": {
   "codemirror_mode": {
    "name": "ipython",
    "version": 3
   },
   "file_extension": ".py",
   "mimetype": "text/x-python",
   "name": "python",
   "nbconvert_exporter": "python",
   "pygments_lexer": "ipython3",
   "version": "3.6.12"
  }
 },
 "nbformat": 4,
 "nbformat_minor": 4
}
