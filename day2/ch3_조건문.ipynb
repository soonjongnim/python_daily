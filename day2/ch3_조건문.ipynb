{
 "cells": [
  {
   "cell_type": "markdown",
   "metadata": {},
   "source": [
    "# 조건 :\n",
    "\n",
    "True, False 판단!\n",
    "\n",
    "크거나, 작거나, 같은지 판단!\n",
    "\n",
    "- 비교연산자: <, >, <=, >=, ==, !="
   ]
  },
  {
   "cell_type": "code",
   "execution_count": 4,
   "metadata": {},
   "outputs": [
    {
     "name": "stdout",
     "output_type": "stream",
     "text": [
      "a가 크다\n"
     ]
    }
   ],
   "source": [
    "a = 100\n",
    "b = 10\n",
    "\n",
    "if a > b:\n",
    "    print('a가 크다')\n",
    "else:\n",
    "    print('b가 크다')"
   ]
  },
  {
   "cell_type": "markdown",
   "metadata": {},
   "source": [
    "- 논리연산자: and, or not"
   ]
  },
  {
   "cell_type": "code",
   "execution_count": 5,
   "metadata": {},
   "outputs": [
    {
     "name": "stdout",
     "output_type": "stream",
     "text": [
      "a가 크다\n"
     ]
    }
   ],
   "source": [
    "if (a > b) and (a > 5):\n",
    "    print('a가 크다')\n",
    "else:\n",
    "    print('a가 작다')"
   ]
  },
  {
   "cell_type": "code",
   "execution_count": 8,
   "metadata": {},
   "outputs": [
    {
     "name": "stdout",
     "output_type": "stream",
     "text": [
      "a가 작다\n"
     ]
    }
   ],
   "source": [
    "if (a > b) and (a < 5):\n",
    "    print('a가 크다')\n",
    "else:\n",
    "    print('a가 작다')"
   ]
  },
  {
   "cell_type": "code",
   "execution_count": 9,
   "metadata": {},
   "outputs": [
    {
     "name": "stdout",
     "output_type": "stream",
     "text": [
      "a가 크다\n"
     ]
    }
   ],
   "source": [
    "if (a > b) or (a < 5):\n",
    "    print('a가 크다')\n",
    "else:\n",
    "    print('a가 작다')"
   ]
  },
  {
   "cell_type": "code",
   "execution_count": 17,
   "metadata": {},
   "outputs": [
    {
     "name": "stdout",
     "output_type": "stream",
     "text": [
      "숫자를 입력해주세요.100\n",
      "0 또는 음수 또는 100보다 작다!\n"
     ]
    }
   ],
   "source": [
    "x = int(input('숫자를 입력해주세요.'))\n",
    "\n",
    "if (x > 0) and (x > 100):\n",
    "    print('양수이고 100보다 크다!')\n",
    "else:\n",
    "    print('0 또는 음수 또는 100보다 작다!')"
   ]
  },
  {
   "cell_type": "code",
   "execution_count": 20,
   "metadata": {},
   "outputs": [
    {
     "name": "stdout",
     "output_type": "stream",
     "text": [
      "숫자를 입력해주세요.35\n",
      "입장료\n"
     ]
    }
   ],
   "source": [
    "x = int(input('숫자를 입력해주세요.'))\n",
    "\n",
    "if (x > 65) or (x < 7):\n",
    "    print('무료!')\n",
    "else:\n",
    "    print('입장료')"
   ]
  },
  {
   "cell_type": "code",
   "execution_count": 25,
   "metadata": {},
   "outputs": [
    {
     "name": "stdout",
     "output_type": "stream",
     "text": [
      "이름을 입력하세요aa\n",
      "이름은 aa 입니다.\n",
      "이름을 입력하세요ss\n",
      "이름은 ss 입니다.\n",
      "이름을 입력하세요qq\n",
      "이름은 qq 입니다.\n",
      "이름을 입력하세요exit\n"
     ]
    }
   ],
   "source": [
    "\n",
    "while True:\n",
    "    name = input('이름을 입력하세요 ')\n",
    "    if name == 'exit':\n",
    "        break\n",
    "        \n",
    "    if not name:\n",
    "        print('이름을 입력하세요')\n",
    "    else:\n",
    "        print(\"이름은 %s 입니다.\"%name)\n",
    "        \n",
    "    "
   ]
  },
  {
   "cell_type": "code",
   "execution_count": 27,
   "metadata": {},
   "outputs": [
    {
     "name": "stdout",
     "output_type": "stream",
     "text": [
      "False\n"
     ]
    }
   ],
   "source": [
    "a = 11\n",
    "\n",
    "print('True') if a == 10 else print(\"False\")"
   ]
  },
  {
   "cell_type": "code",
   "execution_count": 42,
   "metadata": {},
   "outputs": [
    {
     "name": "stdout",
     "output_type": "stream",
     "text": [
      "학생 이름을 입력하세요.aaa\n",
      "국어 성적을 입력하세요.90\n",
      "영어 성적을 입력하세요.70\n",
      "수학 성적을 입력하세요.50\n",
      "scores =  [90, 70, 50]\n",
      "성적:  [90, 70, 50]\n",
      "이름: aaa, 국어: 90 등급: A, 영어: 70 등급: C, 수학: 50 등급: F, 평균: 70.0점\n",
      "등급:  ['A', 'C', 'F']\n"
     ]
    }
   ],
   "source": [
    "name = input('학생 이름을 입력하세요.')\n",
    "kor = int(input('국어 성적을 입력하세요.'))\n",
    "eng = int(input('영어 성적을 입력하세요.'))\n",
    "math = int(input('수학 성적을 입력하세요.'))\n",
    "scores = [kor, eng, math]\n",
    "\n",
    "sum = kor + eng + math\n",
    "avg = sum / 3\n",
    "grade = []\n",
    "print('scores = ',scores)\n",
    "\n",
    "# score = int(input('점수를 입력하세요.'))\n",
    "\n",
    "for i in range(len(scores)):\n",
    "    if scores[i] >= 90:\n",
    "        grade.append('A')\n",
    "    elif scores[i] >= 80:\n",
    "        grade.append('B')\n",
    "    elif scores[i] >= 70:\n",
    "        grade.append('C')\n",
    "    elif scores[i] >= 60:\n",
    "        grade.append('D')\n",
    "    else:\n",
    "        grade.append('F')\n",
    "    \n",
    "print('성적: ', scores)\n",
    "print('이름: %s, 국어: %d 등급: %s, 영어: %d 등급: %s, 수학: %d 등급: %s, 평균: %.1f점' %(name, kor, grade[0], eng, grade[1], math, grade[2], avg))\n",
    "print('등급: ', grade)"
   ]
  },
  {
   "cell_type": "markdown",
   "metadata": {},
   "source": [
    "### 테스트"
   ]
  },
  {
   "cell_type": "code",
   "execution_count": 45,
   "metadata": {},
   "outputs": [
    {
     "name": "stdout",
     "output_type": "stream",
     "text": [
      "False\n",
      "False\n",
      "False\n"
     ]
    }
   ],
   "source": [
    "a = 2\n",
    "b = 5\n",
    "c = -3\n",
    "\n",
    "print(a != 2)\n",
    "print(not(b >= a))\n",
    "print(c/2 > a*3)"
   ]
  },
  {
   "cell_type": "code",
   "execution_count": 46,
   "metadata": {},
   "outputs": [
    {
     "name": "stdout",
     "output_type": "stream",
     "text": [
      "True\n",
      "False\n",
      "False\n"
     ]
    }
   ],
   "source": [
    "a = 3\n",
    "b = 7\n",
    "c = -4\n",
    "\n",
    "print(a != 2)\n",
    "print(not(b >= a))\n",
    "print(c/2 > a*3)"
   ]
  },
  {
   "cell_type": "code",
   "execution_count": 47,
   "metadata": {},
   "outputs": [
    {
     "name": "stdout",
     "output_type": "stream",
     "text": [
      "True\n",
      "False\n",
      "True\n"
     ]
    }
   ],
   "source": [
    "a = -10\n",
    "b = 10\n",
    "c = -2\n",
    "\n",
    "print(a != 2)\n",
    "print(not(b >= a))\n",
    "print(c/2 > a*3)"
   ]
  },
  {
   "cell_type": "code",
   "execution_count": 50,
   "metadata": {},
   "outputs": [
    {
     "name": "stdout",
     "output_type": "stream",
     "text": [
      "단위를 입력하세요.(1:섭씨, 2:화씨)1\n",
      "온도를 입력하세요.80\n",
      "물의 화씨 온도:  176.0 , 상태 : 액체\n"
     ]
    }
   ],
   "source": [
    "inp = int(input('단위를 입력하세요.(1:섭씨, 2:화씨)'))\n",
    "inp2 = int(input('온도를 입력하세요.'))\n",
    "if inp == 2:\n",
    "    result = (inp2 - 32) * 5 / 9\n",
    "    print('물의 섭씨 온도: ', round(result,2), ', 상태 : 액체')\n",
    "else:\n",
    "    result = (inp2 * 9/5) + 32\n",
    "    print('물의 화씨 온도: ', round(result,2), ', 상태 : 액체')\n"
   ]
  },
  {
   "cell_type": "code",
   "execution_count": null,
   "metadata": {},
   "outputs": [],
   "source": []
  }
 ],
 "metadata": {
  "kernelspec": {
   "display_name": "Python 3",
   "language": "python",
   "name": "python3"
  },
  "language_info": {
   "codemirror_mode": {
    "name": "ipython",
    "version": 3
   },
   "file_extension": ".py",
   "mimetype": "text/x-python",
   "name": "python",
   "nbconvert_exporter": "python",
   "pygments_lexer": "ipython3",
   "version": "3.6.12"
  }
 },
 "nbformat": 4,
 "nbformat_minor": 4
}
