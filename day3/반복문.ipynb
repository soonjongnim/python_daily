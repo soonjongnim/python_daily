{
 "cells": [
  {
   "cell_type": "markdown",
   "metadata": {},
   "source": [
    "for <> in []:"
   ]
  },
  {
   "cell_type": "code",
   "execution_count": 2,
   "metadata": {},
   "outputs": [
    {
     "data": {
      "text/plain": [
       "range(0, 5)"
      ]
     },
     "execution_count": 2,
     "metadata": {},
     "output_type": "execute_result"
    }
   ],
   "source": [
    "range(5)"
   ]
  },
  {
   "cell_type": "code",
   "execution_count": 3,
   "metadata": {},
   "outputs": [
    {
     "data": {
      "text/plain": [
       "range(0, 5)"
      ]
     },
     "execution_count": 3,
     "metadata": {},
     "output_type": "execute_result"
    }
   ],
   "source": [
    "r = range(5)\n",
    "r"
   ]
  },
  {
   "cell_type": "code",
   "execution_count": 4,
   "metadata": {},
   "outputs": [
    {
     "name": "stdout",
     "output_type": "stream",
     "text": [
      "range(0, 5)\n"
     ]
    }
   ],
   "source": [
    "print(r)"
   ]
  },
  {
   "cell_type": "code",
   "execution_count": 5,
   "metadata": {},
   "outputs": [
    {
     "data": {
      "text/plain": [
       "range"
      ]
     },
     "execution_count": 5,
     "metadata": {},
     "output_type": "execute_result"
    }
   ],
   "source": [
    "type(r)"
   ]
  },
  {
   "cell_type": "code",
   "execution_count": 6,
   "metadata": {},
   "outputs": [
    {
     "data": {
      "text/plain": [
       "5"
      ]
     },
     "execution_count": 6,
     "metadata": {},
     "output_type": "execute_result"
    }
   ],
   "source": [
    "len(r)"
   ]
  },
  {
   "cell_type": "code",
   "execution_count": 7,
   "metadata": {},
   "outputs": [
    {
     "name": "stdout",
     "output_type": "stream",
     "text": [
      "0\n",
      "1\n",
      "2\n",
      "3\n",
      "4\n"
     ]
    }
   ],
   "source": [
    "for x in range(5):\n",
    "    print(x)"
   ]
  },
  {
   "cell_type": "code",
   "execution_count": 9,
   "metadata": {},
   "outputs": [
    {
     "name": "stdout",
     "output_type": "stream",
     "text": [
      "0\n",
      "1\n",
      "2\n",
      "3\n",
      "4\n"
     ]
    }
   ],
   "source": [
    "for x in r:\n",
    "    print(x)"
   ]
  },
  {
   "cell_type": "code",
   "execution_count": 11,
   "metadata": {},
   "outputs": [
    {
     "name": "stdout",
     "output_type": "stream",
     "text": [
      "\n",
      "*\n",
      "**\n",
      "***\n",
      "****\n"
     ]
    }
   ],
   "source": [
    "for x in range(5):\n",
    "    print(x * '*')"
   ]
  },
  {
   "cell_type": "code",
   "execution_count": 13,
   "metadata": {
    "scrolled": true
   },
   "outputs": [
    {
     "name": "stdout",
     "output_type": "stream",
     "text": [
      "**********\n",
      "**************\n",
      "******************\n",
      "**********************\n",
      "**************************\n",
      "******************************\n",
      "**********************************\n",
      "**************************************\n",
      "******************************************\n",
      "**********************************************\n",
      "**************************************************\n",
      "******************************************************\n",
      "**********************************************************\n",
      "**************************************************************\n",
      "******************************************************************\n",
      "**********************************************************************\n",
      "**************************************************************************\n",
      "******************************************************************************\n",
      "**********************************************************************************\n",
      "**************************************************************************************\n",
      "******************************************************************************************\n",
      "**********************************************************************************************\n",
      "**************************************************************************************************\n"
     ]
    }
   ],
   "source": [
    "for x in range(10,100, 4):\n",
    "    print(x*'*')"
   ]
  },
  {
   "cell_type": "code",
   "execution_count": 17,
   "metadata": {},
   "outputs": [
    {
     "name": "stdout",
     "output_type": "stream",
     "text": [
      "짝수 =  2\n",
      "홀수 =  3\n",
      "짝수 =  4\n",
      "짝수 =  6\n",
      "짝수 =  8\n",
      "홀수 =  9\n",
      "짝수 =  10\n",
      "짝수 =  12\n",
      "짝수 =  14\n",
      "홀수 =  15\n",
      "짝수 =  16\n",
      "짝수 =  18\n"
     ]
    }
   ],
   "source": [
    "for x in range(1, 20):\n",
    "    if x % 2 == 0:\n",
    "        print('짝수 = ', x)\n",
    "    elif x % 3 == 0:\n",
    "        print('홀수 = ', x)"
   ]
  },
  {
   "cell_type": "code",
   "execution_count": 19,
   "metadata": {},
   "outputs": [
    {
     "name": "stdout",
     "output_type": "stream",
     "text": [
      "0\n",
      "1\n",
      "2\n",
      "3\n",
      "4\n"
     ]
    }
   ],
   "source": [
    "x = 0\n",
    "while x < 5:\n",
    "    print(x)\n",
    "    x += 1"
   ]
  },
  {
   "cell_type": "code",
   "execution_count": 21,
   "metadata": {},
   "outputs": [
    {
     "name": "stdout",
     "output_type": "stream",
     "text": [
      "0\n",
      "1\n",
      "2\n",
      "3\n",
      "4\n"
     ]
    }
   ],
   "source": [
    "for x in range(5):\n",
    "    print(x)"
   ]
  },
  {
   "cell_type": "code",
   "execution_count": 22,
   "metadata": {},
   "outputs": [
    {
     "name": "stdout",
     "output_type": "stream",
     "text": [
      "0\n",
      "1\n",
      "2\n",
      "3\n",
      "4\n"
     ]
    }
   ],
   "source": [
    "x = 0\n",
    "while True:\n",
    "    print(x)\n",
    "    x += 1\n",
    "    if x == 5:\n",
    "        break"
   ]
  },
  {
   "cell_type": "code",
   "execution_count": 25,
   "metadata": {},
   "outputs": [
    {
     "name": "stdout",
     "output_type": "stream",
     "text": [
      "모음 =  s, 모음 =  a, 모음 =  d, 모음 =  s, 모음 =  a, 모음 =  d, 모음 =  a, 모음 =  s, 모음 =  d, 모음 =  a, 모음 =   , 모음 =  s, 모음 =  a, 모음 =  d, 모음 =  a, 모음 =  s, 모음 =  d, 모음 =  a, 모음 =  s, 모음 =  d, 모음 =   , 모음 =  s, 모음 =  a, 모음 =  d, 모음 =  a, 모음 =  s, 모음 =  d, "
     ]
    }
   ],
   "source": [
    "s = 'sadsadasda sadasdasd sadasd'\n",
    "i = 0\n",
    "count = 0\n",
    "\n",
    "while i <= len(s)-1:\n",
    "    print('모음 = ', s[i], end=', ')\n",
    "    i += 1"
   ]
  },
  {
   "cell_type": "code",
   "execution_count": 27,
   "metadata": {},
   "outputs": [
    {
     "name": "stdout",
     "output_type": "stream",
     "text": [
      "모음 =  s, 모음 =  a, 모음 =  d, 모음 =  s, 모음 =  a, 모음 =  d, 모음 =  a, 모음 =  s, 모음 =  d, 모음 =  a, 모음 =   , 모음 =  s, 모음 =  a, 모음 =  d, 모음 =  a, 모음 =  s, 모음 =  d, 모음 =  a, 모음 =  s, 모음 =  d, 모음 =   , 모음 =  s, 모음 =  a, 모음 =  d, 모음 =  a, 모음 =  s, 모음 =  d, "
     ]
    }
   ],
   "source": [
    "for i in range(len(s)):\n",
    "    print('모음 = ', s[i], end=', ')"
   ]
  },
  {
   "cell_type": "code",
   "execution_count": 44,
   "metadata": {},
   "outputs": [
    {
     "ename": "KeyboardInterrupt",
     "evalue": "",
     "output_type": "error",
     "traceback": [
      "\u001b[1;31m---------------------------------------------------------------------------\u001b[0m",
      "\u001b[1;31mKeyboardInterrupt\u001b[0m                         Traceback (most recent call last)",
      "\u001b[1;32m<ipython-input-44-ca679cc3781e>\u001b[0m in \u001b[0;36m<module>\u001b[1;34m\u001b[0m\n\u001b[0;32m      3\u001b[0m \u001b[0msum\u001b[0m \u001b[1;33m=\u001b[0m \u001b[1;36m0\u001b[0m\u001b[1;33m\u001b[0m\u001b[1;33m\u001b[0m\u001b[0m\n\u001b[0;32m      4\u001b[0m \u001b[1;32mwhile\u001b[0m \u001b[0mcount\u001b[0m \u001b[1;33m<=\u001b[0m \u001b[1;36m300\u001b[0m\u001b[1;33m:\u001b[0m\u001b[1;33m\u001b[0m\u001b[1;33m\u001b[0m\u001b[0m\n\u001b[1;32m----> 5\u001b[1;33m     \u001b[1;32mif\u001b[0m \u001b[0ma\u001b[0m \u001b[1;33m%\u001b[0m \u001b[0mcount\u001b[0m \u001b[1;33m==\u001b[0m \u001b[1;36m1\u001b[0m\u001b[1;33m:\u001b[0m\u001b[1;33m\u001b[0m\u001b[1;33m\u001b[0m\u001b[0m\n\u001b[0m\u001b[0;32m      6\u001b[0m         \u001b[0msum\u001b[0m \u001b[1;33m=\u001b[0m \u001b[0msum\u001b[0m \u001b[1;33m+\u001b[0m \u001b[0ma\u001b[0m\u001b[1;33m\u001b[0m\u001b[1;33m\u001b[0m\u001b[0m\n\u001b[0;32m      7\u001b[0m         \u001b[0mprint\u001b[0m\u001b[1;33m(\u001b[0m\u001b[1;34m'%6d'\u001b[0m \u001b[1;33m%\u001b[0m\u001b[0msum\u001b[0m\u001b[1;33m,\u001b[0m \u001b[0mend\u001b[0m\u001b[1;33m=\u001b[0m\u001b[1;34m''\u001b[0m\u001b[1;33m)\u001b[0m\u001b[1;33m\u001b[0m\u001b[1;33m\u001b[0m\u001b[0m\n",
      "\u001b[1;31mKeyboardInterrupt\u001b[0m: "
     ]
    }
   ],
   "source": [
    "a = 200\n",
    "count = 1\n",
    "sum = 0\n",
    "while count <= 300:\n",
    "    if a * sum == 1:\n",
    "        sum = sum + a\n",
    "        print('%6d' %sum, end='')\n",
    "        \n",
    "        if count % 10 == 0:\n",
    "            print()\n",
    "            \n",
    "        count += 1\n",
    "        \n",
    "    a = sum + 1\n",
    "    "
   ]
  },
  {
   "cell_type": "code",
   "execution_count": 35,
   "metadata": {},
   "outputs": [
    {
     "name": "stdout",
     "output_type": "stream",
     "text": [
      "3의 배수 = 3,6,9,12,15,18,21,24,27,30,33,36,39,42,45,48,51,54,57,60,63,66,69,72,75,78,81,84,87,90,93,96,99\n",
      " --------------------------------------------------\n",
      "sum =  1683\n"
     ]
    }
   ],
   "source": [
    "sum = 0\n",
    "\n",
    "print('3의 배수 = ', end='')\n",
    "for i in range(1, 101):\n",
    "    \n",
    "    if i % 3 == 0:\n",
    "        \n",
    "        sum += i\n",
    "        \n",
    "        if i == :\n",
    "            print(i, end='')\n",
    "        else:\n",
    "            print(i, end=',')\n",
    "    \n",
    "        \n",
    "print('\\n','-'*50)\n",
    "print('sum = ', sum)"
   ]
  },
  {
   "cell_type": "code",
   "execution_count": 43,
   "metadata": {},
   "outputs": [
    {
     "name": "stdout",
     "output_type": "stream",
     "text": [
      "서비스 만족도를 입력해주세요.(예:1 또는 2 또는 3 또는 q:out):q\n",
      "end\n"
     ]
    }
   ],
   "source": [
    "while True:\n",
    "    a = input('서비스 만족도를 입력해주세요.(예:1 또는 2 또는 3 또는 q:out):')\n",
    "    if a == 'q':\n",
    "        print('end')\n",
    "        break\n",
    "    price = int(input('음식값을 입력해주세요(예:8000):'))\n",
    "\n",
    "    if a == '1':\n",
    "        tip = int(price * 0.2)\n",
    "        service = '매우만족'\n",
    "    elif a == '2':\n",
    "        tip = int(price * 0.1)\n",
    "        service = '만족' \n",
    "    else:\n",
    "        tip = int(price * 0.05)\n",
    "        service = '불만족'\n",
    "\n",
    "    print()\n",
    "    print('서비스 만족도 : %s,\\n팁 : %d원' % (service, tip))\n"
   ]
  },
  {
   "cell_type": "code",
   "execution_count": 45,
   "metadata": {},
   "outputs": [
    {
     "name": "stdout",
     "output_type": "stream",
     "text": [
      "안\n",
      "녕\n",
      "하\n",
      "세\n",
      "요\n"
     ]
    }
   ],
   "source": [
    "msg = '안녕하세요'\n",
    "for s in msg:\n",
    "    print(s)"
   ]
  },
  {
   "cell_type": "code",
   "execution_count": 49,
   "metadata": {},
   "outputs": [
    {
     "name": "stdout",
     "output_type": "stream",
     "text": [
      "------------------------------\n",
      "     섭씨  화씨\n",
      "------------------------------\n",
      "     -20   -4.0\n",
      "     -15    5.0\n",
      "     -10   14.0\n",
      "      -5   23.0\n",
      "       0   32.0\n",
      "       5   41.0\n",
      "      10   50.0\n",
      "      15   59.0\n",
      "      20   68.0\n",
      "      25   77.0\n",
      "      30   86.0\n",
      "------------------------------\n"
     ]
    }
   ],
   "source": [
    "print('-'*30)\n",
    "print('     섭씨  화씨')\n",
    "print('-'*30)\n",
    "\n",
    "for c in range(-20, 31, 5):\n",
    "    f = c * 9.0 / 5.0 + 32.0\n",
    "    print('%8d %6.1f' % (c, f))\n",
    "    \n",
    "print('-'*30)"
   ]
  },
  {
   "cell_type": "code",
   "execution_count": 52,
   "metadata": {},
   "outputs": [
    {
     "name": "stdout",
     "output_type": "stream",
     "text": [
      "시작 수를 입력하세요:100\n",
      "끝 수를 입력하세요:200\n",
      "--------------------------------------------------\n",
      "100에서 200까지 5의 배수가 아닌 수의 합계: 12000\n"
     ]
    }
   ],
   "source": [
    "n1 = int(input('시작 수를 입력하세요:'))\n",
    "n2 = int(input('끝 수를 입력하세요:'))\n",
    "\n",
    "sum = 0 \n",
    "\n",
    "for i in range(n1, n2):\n",
    "    if i%5 != 0:\n",
    "        sum += i\n",
    "\n",
    "print('-'*50)\n",
    "print('%d에서 %d까지 5의 배수가 아닌 수의 합계: %d' %(n1, n2, sum) )    "
   ]
  },
  {
   "cell_type": "code",
   "execution_count": 62,
   "metadata": {},
   "outputs": [
    {
     "name": "stdout",
     "output_type": "stream",
     "text": [
      "하이픈(-)을 포함한 휴대폰 번호를 입력하세요.010-4148-9086\n",
      "01041489086"
     ]
    }
   ],
   "source": [
    "number = input('하이픈(-)을 포함한 휴대폰 번호를 입력하세요.')\n",
    "for x in number:\n",
    "    if x != '-': \n",
    "        print(x, end='')"
   ]
  },
  {
   "cell_type": "code",
   "execution_count": 70,
   "metadata": {},
   "outputs": [
    {
     "name": "stdout",
     "output_type": "stream",
     "text": [
      "하이픈(-)을 뺀 11자리의 휴대폰 번호를 입력하세요.01041489086\n",
      "010-4148-9086\n"
     ]
    }
   ],
   "source": [
    "phone = input('하이픈(-)을 뺀 11자리의 휴대폰 번호를 입력하세요.')\n",
    "# number = ''\n",
    "# for i in range(0, 11):\n",
    "#     if i == 2: \n",
    "#         number += (phone[2]+'-')\n",
    "#     elif i == 6:\n",
    "#         number += (phone[6]+'-')\n",
    "#     else:\n",
    "#         number += (phone[i])\n",
    "\n",
    "number = (phone[:3]+'-'+phone[3:7]+'-'+phone[7:])\n",
    "print(number)"
   ]
  },
  {
   "cell_type": "code",
   "execution_count": 81,
   "metadata": {},
   "outputs": [
    {
     "data": {
      "text/plain": [
       "'01041489086'"
      ]
     },
     "execution_count": 81,
     "metadata": {},
     "output_type": "execute_result"
    }
   ],
   "source": [
    "# 전화번호를 인덱스역으로 만들어보기\n",
    "phone = '010-4148-9086'\n",
    "phone[-13:-10]+phone[-9:-5]+phone[-4:]"
   ]
  },
  {
   "cell_type": "code",
   "execution_count": 82,
   "metadata": {
    "scrolled": true
   },
   "outputs": [
    {
     "name": "stdout",
     "output_type": "stream",
     "text": [
      "--------------------------------------------------\n",
      "2 X 1 = 2\n",
      "2 X 2 = 4\n",
      "2 X 3 = 6\n",
      "2 X 4 = 8\n",
      "2 X 5 = 10\n",
      "2 X 6 = 12\n",
      "2 X 7 = 14\n",
      "2 X 8 = 16\n",
      "2 X 9 = 18\n",
      "--------------------------------------------------\n",
      "3 X 1 = 3\n",
      "3 X 2 = 6\n",
      "3 X 3 = 9\n",
      "3 X 4 = 12\n",
      "3 X 5 = 15\n",
      "3 X 6 = 18\n",
      "3 X 7 = 21\n",
      "3 X 8 = 24\n",
      "3 X 9 = 27\n",
      "--------------------------------------------------\n",
      "4 X 1 = 4\n",
      "4 X 2 = 8\n",
      "4 X 3 = 12\n",
      "4 X 4 = 16\n",
      "4 X 5 = 20\n",
      "4 X 6 = 24\n",
      "4 X 7 = 28\n",
      "4 X 8 = 32\n",
      "4 X 9 = 36\n",
      "--------------------------------------------------\n",
      "5 X 1 = 5\n",
      "5 X 2 = 10\n",
      "5 X 3 = 15\n",
      "5 X 4 = 20\n",
      "5 X 5 = 25\n",
      "5 X 6 = 30\n",
      "5 X 7 = 35\n",
      "5 X 8 = 40\n",
      "5 X 9 = 45\n",
      "--------------------------------------------------\n",
      "6 X 1 = 6\n",
      "6 X 2 = 12\n",
      "6 X 3 = 18\n",
      "6 X 4 = 24\n",
      "6 X 5 = 30\n",
      "6 X 6 = 36\n",
      "6 X 7 = 42\n",
      "6 X 8 = 48\n",
      "6 X 9 = 54\n",
      "--------------------------------------------------\n",
      "7 X 1 = 7\n",
      "7 X 2 = 14\n",
      "7 X 3 = 21\n",
      "7 X 4 = 28\n",
      "7 X 5 = 35\n",
      "7 X 6 = 42\n",
      "7 X 7 = 49\n",
      "7 X 8 = 56\n",
      "7 X 9 = 63\n",
      "--------------------------------------------------\n",
      "8 X 1 = 8\n",
      "8 X 2 = 16\n",
      "8 X 3 = 24\n",
      "8 X 4 = 32\n",
      "8 X 5 = 40\n",
      "8 X 6 = 48\n",
      "8 X 7 = 56\n",
      "8 X 8 = 64\n",
      "8 X 9 = 72\n",
      "--------------------------------------------------\n",
      "9 X 1 = 9\n",
      "9 X 2 = 18\n",
      "9 X 3 = 27\n",
      "9 X 4 = 36\n",
      "9 X 5 = 45\n",
      "9 X 6 = 54\n",
      "9 X 7 = 63\n",
      "9 X 8 = 72\n",
      "9 X 9 = 81\n",
      "--------------------------------------------------\n"
     ]
    }
   ],
   "source": [
    "print('-'*50)\n",
    "\n",
    "for a in range(2, 10):\n",
    "    for b in range(1, 10):\n",
    "        c = a * b\n",
    "        print('%d X %d = %d' % (a, b, c))\n",
    "    print('-'*50)"
   ]
  },
  {
   "cell_type": "code",
   "execution_count": 89,
   "metadata": {
    "scrolled": true
   },
   "outputs": [
    {
     "name": "stdout",
     "output_type": "stream",
     "text": [
      "구구단을 입력하세요.2\n",
      "--------------------------------------------------\n",
      "2 X 1 = 2\n",
      "2 X 2 = 4\n",
      "2 X 3 = 6\n",
      "2 X 4 = 8\n",
      "2 X 5 = 10\n",
      "2 X 6 = 12\n",
      "2 X 7 = 14\n",
      "2 X 8 = 16\n",
      "2 X 9 = 18\n",
      "--------------------------------------------------\n",
      "구구단을 입력하세요.1\n",
      "--------------------------------------------------\n",
      "1 X 1 = 1\n",
      "1 X 2 = 2\n",
      "1 X 3 = 3\n",
      "1 X 4 = 4\n",
      "1 X 5 = 5\n",
      "1 X 6 = 6\n",
      "1 X 7 = 7\n",
      "1 X 8 = 8\n",
      "1 X 9 = 9\n",
      "--------------------------------------------------\n",
      "구구단을 입력하세요.3\n",
      "--------------------------------------------------\n",
      "3 X 1 = 3\n",
      "3 X 2 = 6\n",
      "3 X 3 = 9\n",
      "3 X 4 = 12\n",
      "3 X 5 = 15\n",
      "3 X 6 = 18\n",
      "3 X 7 = 21\n",
      "3 X 8 = 24\n",
      "3 X 9 = 27\n",
      "--------------------------------------------------\n",
      "구구단을 입력하세요.4\n",
      "--------------------------------------------------\n",
      "4 X 1 = 4\n",
      "4 X 2 = 8\n",
      "4 X 3 = 12\n",
      "4 X 4 = 16\n",
      "4 X 5 = 20\n",
      "4 X 6 = 24\n",
      "4 X 7 = 28\n",
      "4 X 8 = 32\n",
      "4 X 9 = 36\n",
      "--------------------------------------------------\n",
      "구구단을 입력하세요.5\n",
      "--------------------------------------------------\n",
      "5 X 1 = 5\n",
      "5 X 2 = 10\n",
      "5 X 3 = 15\n",
      "5 X 4 = 20\n",
      "5 X 5 = 25\n",
      "5 X 6 = 30\n",
      "5 X 7 = 35\n",
      "5 X 8 = 40\n",
      "5 X 9 = 45\n",
      "--------------------------------------------------\n",
      "구구단을 입력하세요.6\n",
      "--------------------------------------------------\n",
      "6 X 1 = 6\n",
      "6 X 2 = 12\n",
      "6 X 3 = 18\n",
      "6 X 4 = 24\n",
      "6 X 5 = 30\n",
      "6 X 6 = 36\n",
      "6 X 7 = 42\n",
      "6 X 8 = 48\n",
      "6 X 9 = 54\n",
      "--------------------------------------------------\n",
      "구구단을 입력하세요.7\n",
      "--------------------------------------------------\n",
      "7 X 1 = 7\n",
      "7 X 2 = 14\n",
      "7 X 3 = 21\n",
      "7 X 4 = 28\n",
      "7 X 5 = 35\n",
      "7 X 6 = 42\n",
      "7 X 7 = 49\n",
      "7 X 8 = 56\n",
      "7 X 9 = 63\n",
      "--------------------------------------------------\n",
      "구구단을 입력하세요.9\n",
      "--------------------------------------------------\n",
      "9 X 1 = 9\n",
      "9 X 2 = 18\n",
      "9 X 3 = 27\n",
      "9 X 4 = 36\n",
      "9 X 5 = 45\n",
      "9 X 6 = 54\n",
      "9 X 7 = 63\n",
      "9 X 8 = 72\n",
      "9 X 9 = 81\n",
      "--------------------------------------------------\n",
      "구구단을 입력하세요.0\n"
     ]
    }
   ],
   "source": [
    "while True:\n",
    "    inp = int(input('구구단을 입력하세요.'))\n",
    "    if inp == 0:\n",
    "        break\n",
    "        \n",
    "    print('-'*50)\n",
    "\n",
    "    # for a in range(inp):\n",
    "    for b in range(1, 10):\n",
    "        c = inp * b\n",
    "        print('%d X %d = %d' % (inp, b, c))\n",
    "    print('-'*50)"
   ]
  },
  {
   "cell_type": "code",
   "execution_count": 96,
   "metadata": {},
   "outputs": [
    {
     "name": "stdout",
     "output_type": "stream",
     "text": [
      "\n",
      "*\n",
      "**\n",
      "***\n",
      "****\n",
      "*****\n",
      "******\n",
      "*******\n",
      "********\n",
      "*********\n"
     ]
    }
   ],
   "source": [
    "for i in range(1, 11):\n",
    "    for j in range(1, i):\n",
    "        print('*', end='')\n",
    "    print()"
   ]
  },
  {
   "cell_type": "code",
   "execution_count": 114,
   "metadata": {},
   "outputs": [
    {
     "name": "stdout",
     "output_type": "stream",
     "text": [
      "         \n",
      "        *\n",
      "       **\n",
      "      ***\n",
      "     ****\n",
      "    *****\n",
      "   ******\n",
      "  *******\n",
      " ********\n",
      "*********\n"
     ]
    }
   ],
   "source": [
    "for i in range(1, 11):\n",
    "    for j in range(1, 11-i):\n",
    "        print(' ', end='')\n",
    "    for k in range(1, i):\n",
    "        print('*', end='')\n",
    "    print()"
   ]
  },
  {
   "cell_type": "code",
   "execution_count": 115,
   "metadata": {},
   "outputs": [
    {
     "name": "stdout",
     "output_type": "stream",
     "text": [
      "i의 값: 1 => 합계: 1\n",
      "i의 값: 2 => 합계: 3\n",
      "i의 값: 3 => 합계: 6\n",
      "i의 값: 4 => 합계: 10\n",
      "i의 값: 5 => 합계: 15\n",
      "i의 값: 6 => 합계: 21\n",
      "i의 값: 7 => 합계: 28\n",
      "i의 값: 8 => 합계: 36\n",
      "i의 값: 9 => 합계: 45\n",
      "i의 값: 10 => 합계: 55\n"
     ]
    }
   ],
   "source": [
    "sum = 0\n",
    "i = 1\n",
    "\n",
    "while i <= 10:\n",
    "    sum += i\n",
    "    print('i의 값: %d => 합계: %d' %(i, sum))\n",
    "    i += 1"
   ]
  },
  {
   "cell_type": "code",
   "execution_count": 118,
   "metadata": {},
   "outputs": [
    {
     "name": "stdout",
     "output_type": "stream",
     "text": [
      "200 202 203 205 206 208 209 211 \n",
      "212 214 215 217 218 220 221 223 \n",
      "224 226 227 229 230 232 233 235 \n",
      "236 238 239 241 242 244 245 247 \n",
      "248 250 251 253 254 256 257 259 \n",
      "260 262 263 265 266 268 269 271 \n",
      "272 274 275 277 278 280 281 283 \n",
      "284 286 287 289 290 292 293 295 \n",
      "296 298 299 301 302 304 305 307 \n",
      "308 310 311 313 314 316 317 319 \n",
      "320 322 323 325 326 328 329 331 \n",
      "332 334 335 337 338 340 341 343 \n",
      "344 346 347 349 350 352 353 355 \n",
      "356 358 359 361 362 364 365 367 \n",
      "368 370 371 373 374 376 377 379 \n",
      "380 382 383 385 386 388 389 391 \n",
      "392 394 395 397 398 400 401 403 \n",
      "404 406 407 409 410 412 413 415 \n",
      "416 418 419 421 422 424 425 427 \n",
      "428 430 431 433 434 436 437 439 \n",
      "440 442 443 445 446 448 449 451 \n",
      "452 454 455 457 458 460 461 463 \n",
      "464 466 467 469 470 472 473 475 \n",
      "476 478 479 481 482 484 485 487 \n",
      "488 490 491 493 494 496 497 499 \n",
      "500 502 503 505 506 508 509 511 \n",
      "512 514 515 517 518 520 521 523 \n",
      "524 526 527 529 530 532 533 535 \n",
      "536 538 539 541 542 544 545 547 \n",
      "548 550 551 553 554 556 557 559 \n",
      "560 562 563 565 566 568 569 571 \n",
      "572 574 575 577 578 580 581 583 \n",
      "584 586 587 589 590 592 593 595 \n",
      "596 598 599 "
     ]
    }
   ],
   "source": [
    "i = 200\n",
    "count = 0\n",
    "while i < 601:\n",
    "    if i%3 != 0:\n",
    "        print('%d' %i, end=' ')\n",
    "        count += 1\n",
    "        if count%8 == 0:\n",
    "            print()\n",
    "            \n",
    "    i += 1"
   ]
  },
  {
   "cell_type": "code",
   "execution_count": 119,
   "metadata": {},
   "outputs": [
    {
     "name": "stdout",
     "output_type": "stream",
     "text": [
      "------------------------------\n",
      "     섭씨  화씨\n",
      "------------------------------\n",
      "     -20   -4.0\n",
      "     -19   -2.2\n",
      "     -18   -0.4\n",
      "     -17    1.4\n",
      "     -16    3.2\n",
      "     -15    5.0\n",
      "     -14    6.8\n",
      "     -13    8.6\n",
      "     -12   10.4\n",
      "     -11   12.2\n",
      "     -10   14.0\n",
      "      -9   15.8\n",
      "      -8   17.6\n",
      "      -7   19.4\n",
      "      -6   21.2\n",
      "      -5   23.0\n",
      "      -4   24.8\n",
      "      -3   26.6\n",
      "      -2   28.4\n",
      "      -1   30.2\n",
      "       0   32.0\n",
      "       1   33.8\n",
      "       2   35.6\n",
      "       3   37.4\n",
      "       4   39.2\n",
      "       5   41.0\n",
      "       6   42.8\n",
      "       7   44.6\n",
      "       8   46.4\n",
      "       9   48.2\n",
      "      10   50.0\n",
      "      11   51.8\n",
      "      12   53.6\n",
      "      13   55.4\n",
      "      14   57.2\n",
      "      15   59.0\n",
      "      16   60.8\n",
      "      17   62.6\n",
      "      18   64.4\n",
      "      19   66.2\n",
      "      20   68.0\n",
      "      21   69.8\n",
      "      22   71.6\n",
      "      23   73.4\n",
      "      24   75.2\n",
      "      25   77.0\n",
      "      26   78.8\n",
      "      27   80.6\n",
      "      28   82.4\n",
      "      29   84.2\n",
      "      30   86.0\n",
      "      31   87.8\n",
      "      32   89.6\n",
      "      33   91.4\n",
      "      34   93.2\n",
      "      35   95.0\n",
      "      36   96.8\n",
      "      37   98.6\n",
      "      38  100.4\n",
      "      39  102.2\n",
      "      40  104.0\n",
      "------------------------------\n"
     ]
    }
   ],
   "source": [
    "print('-'*30)\n",
    "print('     섭씨  화씨')\n",
    "print('-'*30)\n",
    "c = -20\n",
    "while c < 41:\n",
    "    f = c * 9.0 / 5.0 + 32.0\n",
    "    print('%8d %6.1f' % (c, f))\n",
    "    c += 1\n",
    "    \n",
    "    \n",
    "# for c in range(-20, 31, 5):\n",
    "#     f = c * 9.0 / 5.0 + 32.0\n",
    "#     print('%8d %6.1f' % (c, f))\n",
    "    \n",
    "print('-'*30)"
   ]
  },
  {
   "cell_type": "code",
   "execution_count": 126,
   "metadata": {},
   "outputs": [
    {
     "name": "stdout",
     "output_type": "stream",
     "text": [
      "영어문장을입력하세요:We are the champion.\n",
      "모음: e a e e a i o "
     ]
    }
   ],
   "source": [
    "s = input('영어문장을입력하세요:') \n",
    "i = 0 \n",
    "count = 0 \n",
    "lower = 'aAeEiIoOuU'\n",
    "print('모음: ', end = '') \n",
    "while i <= len(s) -1 : \n",
    "    if (s[i] in lower) : \n",
    "        count += 1 \n",
    "        print(s[i], end=' ') \n",
    "    i += 1\n"
   ]
  },
  {
   "cell_type": "code",
   "execution_count": 128,
   "metadata": {},
   "outputs": [
    {
     "name": "stdout",
     "output_type": "stream",
     "text": [
      "**********\n",
      "**********\n",
      "**********\n",
      "**********\n",
      "**********\n"
     ]
    }
   ],
   "source": [
    "for x in range(5):\n",
    "    print('*'*10)"
   ]
  },
  {
   "cell_type": "code",
   "execution_count": 129,
   "metadata": {},
   "outputs": [
    {
     "name": "stdout",
     "output_type": "stream",
     "text": [
      "**********\n",
      "**********\n",
      "**********\n",
      "**********\n",
      "**********\n"
     ]
    }
   ],
   "source": [
    "x = 0\n",
    "while x < 5:\n",
    "    print('*'*10)\n",
    "    x += 1"
   ]
  },
  {
   "cell_type": "code",
   "execution_count": 135,
   "metadata": {},
   "outputs": [
    {
     "name": "stdout",
     "output_type": "stream",
     "text": [
      "666666\n",
      "55555\n",
      "4444\n",
      "333\n",
      "22\n",
      "1\n"
     ]
    }
   ],
   "source": [
    "for x in range(6,0,-1):\n",
    "    print(str(x)*x)"
   ]
  },
  {
   "cell_type": "code",
   "execution_count": 149,
   "metadata": {},
   "outputs": [
    {
     "ename": "TypeError",
     "evalue": "can only concatenate tuple (not \"int\") to tuple",
     "output_type": "error",
     "traceback": [
      "\u001b[1;31m---------------------------------------------------------------------------\u001b[0m",
      "\u001b[1;31mTypeError\u001b[0m                                 Traceback (most recent call last)",
      "\u001b[1;32m<ipython-input-149-45831a2d2dce>\u001b[0m in \u001b[0;36m<module>\u001b[1;34m\u001b[0m\n\u001b[0;32m      1\u001b[0m \u001b[0mnumber\u001b[0m \u001b[1;33m=\u001b[0m \u001b[1;33m(\u001b[0m\u001b[1;33m)\u001b[0m\u001b[1;33m\u001b[0m\u001b[1;33m\u001b[0m\u001b[0m\n\u001b[0;32m      2\u001b[0m \u001b[1;32mfor\u001b[0m \u001b[0mx\u001b[0m \u001b[1;32min\u001b[0m \u001b[0mrange\u001b[0m\u001b[1;33m(\u001b[0m\u001b[1;36m0\u001b[0m\u001b[1;33m,\u001b[0m\u001b[1;36m6\u001b[0m\u001b[1;33m)\u001b[0m\u001b[1;33m:\u001b[0m\u001b[1;33m\u001b[0m\u001b[1;33m\u001b[0m\u001b[0m\n\u001b[1;32m----> 3\u001b[1;33m     \u001b[0mnumber\u001b[0m \u001b[1;33m+=\u001b[0m \u001b[0mx\u001b[0m\u001b[1;33m\u001b[0m\u001b[1;33m\u001b[0m\u001b[0m\n\u001b[0m\u001b[0;32m      4\u001b[0m     \u001b[0mprint\u001b[0m\u001b[1;33m(\u001b[0m\u001b[0mnumber\u001b[0m\u001b[1;33m)\u001b[0m\u001b[1;33m\u001b[0m\u001b[1;33m\u001b[0m\u001b[0m\n",
      "\u001b[1;31mTypeError\u001b[0m: can only concatenate tuple (not \"int\") to tuple"
     ]
    }
   ],
   "source": []
  },
  {
   "cell_type": "code",
   "execution_count": null,
   "metadata": {},
   "outputs": [],
   "source": []
  }
 ],
 "metadata": {
  "kernelspec": {
   "display_name": "Python 3",
   "language": "python",
   "name": "python3"
  },
  "language_info": {
   "codemirror_mode": {
    "name": "ipython",
    "version": 3
   },
   "file_extension": ".py",
   "mimetype": "text/x-python",
   "name": "python",
   "nbconvert_exporter": "python",
   "pygments_lexer": "ipython3",
   "version": "3.6.12"
  }
 },
 "nbformat": 4,
 "nbformat_minor": 4
}
