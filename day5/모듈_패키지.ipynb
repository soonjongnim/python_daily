{
 "cells": [
  {
   "cell_type": "markdown",
   "metadata": {},
   "source": [
    "# 모듈"
   ]
  },
  {
   "cell_type": "code",
   "execution_count": 1,
   "metadata": {},
   "outputs": [
    {
     "data": {
      "text/plain": [
       "['C:\\\\Users\\\\BIT-R39\\\\anaconda3\\\\envs\\\\python36\\\\python36.zip',\n",
       " 'C:\\\\Users\\\\BIT-R39\\\\anaconda3\\\\envs\\\\python36\\\\DLLs',\n",
       " 'C:\\\\Users\\\\BIT-R39\\\\anaconda3\\\\envs\\\\python36\\\\lib',\n",
       " 'C:\\\\Users\\\\BIT-R39\\\\anaconda3\\\\envs\\\\python36',\n",
       " '',\n",
       " 'C:\\\\Users\\\\BIT-R39\\\\anaconda3\\\\envs\\\\python36\\\\lib\\\\site-packages',\n",
       " 'C:\\\\Users\\\\BIT-R39\\\\anaconda3\\\\envs\\\\python36\\\\lib\\\\site-packages\\\\win32',\n",
       " 'C:\\\\Users\\\\BIT-R39\\\\anaconda3\\\\envs\\\\python36\\\\lib\\\\site-packages\\\\win32\\\\lib',\n",
       " 'C:\\\\Users\\\\BIT-R39\\\\anaconda3\\\\envs\\\\python36\\\\lib\\\\site-packages\\\\Pythonwin',\n",
       " 'C:\\\\Users\\\\BIT-R39\\\\anaconda3\\\\envs\\\\python36\\\\lib\\\\site-packages\\\\IPython\\\\extensions',\n",
       " 'C:\\\\Users\\\\BIT-R39\\\\.ipython']"
      ]
     },
     "execution_count": 1,
     "metadata": {},
     "output_type": "execute_result"
    }
   ],
   "source": [
    "import sys\n",
    "sys.path"
   ]
  },
  {
   "cell_type": "code",
   "execution_count": 2,
   "metadata": {},
   "outputs": [
    {
     "data": {
      "text/plain": [
       "module"
      ]
     },
     "execution_count": 2,
     "metadata": {},
     "output_type": "execute_result"
    }
   ],
   "source": [
    "type(sys)"
   ]
  },
  {
   "cell_type": "code",
   "execution_count": 1,
   "metadata": {},
   "outputs": [
    {
     "ename": "ModuleNotFoundError",
     "evalue": "No module named 'mod1'",
     "output_type": "error",
     "traceback": [
      "\u001b[1;31m---------------------------------------------------------------------------\u001b[0m",
      "\u001b[1;31mModuleNotFoundError\u001b[0m                       Traceback (most recent call last)",
      "\u001b[1;32m<ipython-input-1-be0c0c33f167>\u001b[0m in \u001b[0;36m<module>\u001b[1;34m\u001b[0m\n\u001b[1;32m----> 1\u001b[1;33m \u001b[1;32mimport\u001b[0m \u001b[0mmod1\u001b[0m\u001b[1;33m\u001b[0m\u001b[1;33m\u001b[0m\u001b[0m\n\u001b[0m",
      "\u001b[1;31mModuleNotFoundError\u001b[0m: No module named 'mod1'"
     ]
    }
   ],
   "source": [
    "import mod1"
   ]
  },
  {
   "cell_type": "code",
   "execution_count": 4,
   "metadata": {},
   "outputs": [
    {
     "data": {
      "text/plain": [
       "3"
      ]
     },
     "execution_count": 4,
     "metadata": {},
     "output_type": "execute_result"
    }
   ],
   "source": [
    "mod1.add(1, 2)"
   ]
  },
  {
   "cell_type": "code",
   "execution_count": 5,
   "metadata": {},
   "outputs": [
    {
     "data": {
      "text/plain": [
       "<module 'mod1' from 'C:\\\\Users\\\\BIT-R39\\\\python_daily\\\\day5\\\\mod1.py'>"
      ]
     },
     "execution_count": 5,
     "metadata": {},
     "output_type": "execute_result"
    }
   ],
   "source": [
    "mod1"
   ]
  },
  {
   "cell_type": "code",
   "execution_count": 6,
   "metadata": {},
   "outputs": [
    {
     "name": "stdout",
     "output_type": "stream",
     "text": [
      "Help on module mod1:\n",
      "\n",
      "NAME\n",
      "    mod1 - # mod1.py\n",
      "\n",
      "FUNCTIONS\n",
      "    add(a, b)\n",
      "    \n",
      "    sub(a, b)\n",
      "\n",
      "FILE\n",
      "    c:\\users\\bit-r39\\python_daily\\day5\\mod1.py\n",
      "\n",
      "\n"
     ]
    }
   ],
   "source": [
    "help(mod1)"
   ]
  },
  {
   "cell_type": "code",
   "execution_count": 13,
   "metadata": {},
   "outputs": [
    {
     "data": {
      "text/plain": [
       "['__builtins__',\n",
       " '__cached__',\n",
       " '__doc__',\n",
       " '__file__',\n",
       " '__loader__',\n",
       " '__name__',\n",
       " '__package__',\n",
       " '__spec__',\n",
       " 'add',\n",
       " 'sub']"
      ]
     },
     "execution_count": 13,
     "metadata": {},
     "output_type": "execute_result"
    }
   ],
   "source": [
    "dir(mod1)\n",
    "# mod1.__file__"
   ]
  },
  {
   "cell_type": "code",
   "execution_count": 19,
   "metadata": {},
   "outputs": [
    {
     "data": {
      "text/plain": [
       "(9, -7)"
      ]
     },
     "execution_count": 19,
     "metadata": {},
     "output_type": "execute_result"
    }
   ],
   "source": [
    "# from mod1 import add, sub\n",
    "from mod1 import *\n",
    "add(1,8), sub(1,8)"
   ]
  },
  {
   "cell_type": "markdown",
   "metadata": {},
   "source": [
    "# 패키지"
   ]
  },
  {
   "cell_type": "code",
   "execution_count": 2,
   "metadata": {},
   "outputs": [],
   "source": [
    "import mymodule.mod1"
   ]
  },
  {
   "cell_type": "code",
   "execution_count": 3,
   "metadata": {},
   "outputs": [
    {
     "data": {
      "text/plain": [
       "3"
      ]
     },
     "execution_count": 3,
     "metadata": {},
     "output_type": "execute_result"
    }
   ],
   "source": [
    "mymodule.mod1.add(1,2)"
   ]
  },
  {
   "cell_type": "code",
   "execution_count": 4,
   "metadata": {},
   "outputs": [],
   "source": [
    "import mymodule.mod1 as mod1"
   ]
  },
  {
   "cell_type": "code",
   "execution_count": 5,
   "metadata": {},
   "outputs": [
    {
     "data": {
      "text/plain": [
       "3"
      ]
     },
     "execution_count": 5,
     "metadata": {},
     "output_type": "execute_result"
    }
   ],
   "source": [
    "mod1.add(1,2)"
   ]
  },
  {
   "cell_type": "code",
   "execution_count": 6,
   "metadata": {},
   "outputs": [],
   "source": [
    "from mymodule import mod1"
   ]
  },
  {
   "cell_type": "code",
   "execution_count": 7,
   "metadata": {},
   "outputs": [
    {
     "data": {
      "text/plain": [
       "5"
      ]
     },
     "execution_count": 7,
     "metadata": {},
     "output_type": "execute_result"
    }
   ],
   "source": [
    "mod1.add(2,3)"
   ]
  },
  {
   "cell_type": "markdown",
   "metadata": {},
   "source": [
    "## game 패키지 만들기"
   ]
  },
  {
   "cell_type": "code",
   "execution_count": 10,
   "metadata": {},
   "outputs": [],
   "source": [
    "from mymodule.game.sound import echo"
   ]
  },
  {
   "cell_type": "code",
   "execution_count": 11,
   "metadata": {},
   "outputs": [
    {
     "name": "stdout",
     "output_type": "stream",
     "text": [
      "echo\n"
     ]
    }
   ],
   "source": [
    "echo.echo_test()"
   ]
  },
  {
   "cell_type": "markdown",
   "metadata": {},
   "source": [
    "# 내부모듈 사용"
   ]
  },
  {
   "cell_type": "code",
   "execution_count": 12,
   "metadata": {},
   "outputs": [
    {
     "name": "stdout",
     "output_type": "stream",
     "text": [
      "float(7.7): 7\n",
      "cell(10.1): 11\n",
      "round(8.6): 9\n",
      "5의 팩토리얼: 120\n"
     ]
    }
   ],
   "source": [
    "import math\n",
    "\n",
    "print('float(7.7): %d' % math.floor(7.7))\n",
    "print('cell(10.1): %d' % math.ceil(10.1))\n",
    "print('round(8.6): %d' % round(8.6))\n",
    "\n",
    "print('5의 팩토리얼: %d' % math.factorial(5))"
   ]
  },
  {
   "cell_type": "code",
   "execution_count": 13,
   "metadata": {},
   "outputs": [
    {
     "name": "stdout",
     "output_type": "stream",
     "text": [
      "sin(pi/2): 1.00\n",
      "cos(pi): -1.00\n",
      "tan(pi*2): -0.00\n",
      "2의 4승: 16\n",
      "49의 제곱근: 7\n",
      "log10(100): 2.00\n"
     ]
    }
   ],
   "source": [
    "import math as m\n",
    "\n",
    "print('sin(pi/2): %.2f' %m.sin(m.pi/2))\n",
    "print('cos(pi): %.2f' %m.cos(m.pi))\n",
    "print('tan(pi*2): %.2f' %m.tan(m.pi*2))\n",
    "\n",
    "print('2의 4승: %d' %m.pow(2,4))\n",
    "print('49의 제곱근: %d' %m.sqrt(49))\n",
    "print('log10(100): %.2f' %m.log10(100))"
   ]
  },
  {
   "cell_type": "code",
   "execution_count": 15,
   "metadata": {},
   "outputs": [
    {
     "name": "stdout",
     "output_type": "stream",
     "text": [
      "년: 2020\n",
      "월: 12\n",
      "일: 4\n",
      "시: 16\n",
      "분: 38\n",
      "초: 10\n",
      "2020/12/04 16:38:10\n",
      "20-12-04 PM 04:38\n"
     ]
    }
   ],
   "source": [
    "from datetime import datetime\n",
    "today = datetime.now()\n",
    "\n",
    "print('년: %s' %today.year)\n",
    "print('월: %s' %today.month)\n",
    "print('일: %s' %today.day)\n",
    "print('시: %s' %today.hour)\n",
    "print('분: %s' %today.minute)\n",
    "print('초: %s' %today.second)\n",
    "print(today.strftime('%Y/%m/%d %H:%M:%S'))\n",
    "print(today.strftime('%y-%m-%d %p %I:%M'))"
   ]
  },
  {
   "cell_type": "code",
   "execution_count": null,
   "metadata": {},
   "outputs": [],
   "source": []
  }
 ],
 "metadata": {
  "kernelspec": {
   "display_name": "Python 3",
   "language": "python",
   "name": "python3"
  },
  "language_info": {
   "codemirror_mode": {
    "name": "ipython",
    "version": 3
   },
   "file_extension": ".py",
   "mimetype": "text/x-python",
   "name": "python",
   "nbconvert_exporter": "python",
   "pygments_lexer": "ipython3",
   "version": "3.6.12"
  }
 },
 "nbformat": 4,
 "nbformat_minor": 4
}
