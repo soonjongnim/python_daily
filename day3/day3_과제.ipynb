{
 "cells": [
  {
   "cell_type": "markdown",
   "metadata": {},
   "source": [
    "### 과제1"
   ]
  },
  {
   "cell_type": "code",
   "execution_count": 1,
   "metadata": {},
   "outputs": [
    {
     "name": "stdout",
     "output_type": "stream",
     "text": [
      "You should check for DeprecationWarning in your code \n",
      "When Python 2.7 was still supported, a lot of functionality in Python 3 was kept for backward compatibility with Python 2.7. With the end of Python 2 support, these backward compatibility layers have been removed, or will be removed soon. Most of them emitted a DeprecationWarning warning for several years. For example, using collections.Mapping instead of collections.abc.Mapping emits a DeprecationWarning since Python 3.3, released in 2012.\n",
      "\n",
      "Test your application with the -W default command-line option to see DeprecationWarning and PendingDeprecationWarning, or even with -W error to treat them as errors. Warnings Filter can be used to ignore warnings from third-party code.\n",
      "\n",
      "Python 3.9 is the last version providing those Python 2 backward compatibility layers, to give more time to Python projects maintainers to organize the removal of the Python 2 support and add support for Python 3.9.\n",
      "\n",
      "Aliases to Abstract Base Classes in the collections module, like collections.Mapping alias to collections.abc.Mapping, are kept for one last release for backward compatibility. They will be removed from Python 3.10.\n",
      "\n",
      "More generally, try to run your tests in the Python Development Mode which helps to prepare your code to make it compatible with the next Python version.\n",
      "\n",
      "Note: a number of pre-existing deprecations were removed in this version of Python as well. Consult the Removed section.\n"
     ]
    }
   ],
   "source": [
    "words = \"\"\"You should check for DeprecationWarning in your code \n",
    "When Python 2.7 was still supported, a lot of functionality in Python 3 was kept for backward compatibility with Python 2.7. With the end of Python 2 support, these backward compatibility layers have been removed, or will be removed soon. Most of them emitted a DeprecationWarning warning for several years. For example, using collections.Mapping instead of collections.abc.Mapping emits a DeprecationWarning since Python 3.3, released in 2012.\n",
    "\n",
    "Test your application with the -W default command-line option to see DeprecationWarning and PendingDeprecationWarning, or even with -W error to treat them as errors. Warnings Filter can be used to ignore warnings from third-party code.\n",
    "\n",
    "Python 3.9 is the last version providing those Python 2 backward compatibility layers, to give more time to Python projects maintainers to organize the removal of the Python 2 support and add support for Python 3.9.\n",
    "\n",
    "Aliases to Abstract Base Classes in the collections module, like collections.Mapping alias to collections.abc.Mapping, are kept for one last release for backward compatibility. They will be removed from Python 3.10.\n",
    "\n",
    "More generally, try to run your tests in the Python Development Mode which helps to prepare your code to make it compatible with the next Python version.\n",
    "\n",
    "Note: a number of pre-existing deprecations were removed in this version of Python as well. Consult the Removed section.\"\"\"\n",
    "\n",
    "print(words)"
   ]
  },
  {
   "cell_type": "code",
   "execution_count": 2,
   "metadata": {},
   "outputs": [
    {
     "name": "stdout",
     "output_type": "stream",
     "text": [
      "a = 77\n",
      "b = 17\n",
      "c = 41\n",
      "d = 31\n",
      "e = 128\n",
      "f = 17\n",
      "g = 20\n",
      "h = 42\n",
      "i = 85\n",
      "j = 1\n",
      "k = 9\n",
      "l = 49\n",
      "m = 27\n",
      "n = 87\n",
      "o = 111\n",
      "p = 41\n",
      "q = 0\n",
      "r = 78\n",
      "s = 59\n",
      "t = 105\n",
      "u = 18\n",
      "v = 15\n",
      "w = 17\n",
      "x = 3\n",
      "y = 30\n",
      "z = 1\n"
     ]
    }
   ],
   "source": [
    "alpabets = 'abcdefghijklmnopqrstuvwxyz'\n",
    "for i in alpabets:\n",
    "    sum = 0\n",
    "    for word in words:\n",
    "        if word.isalpha() and word.islower():\n",
    "            if word == i:\n",
    "                sum += 1\n",
    "    print(i, '=', sum)\n",
    "\n",
    "\n",
    "\n",
    "\n",
    "for i in alpabets:\n",
    "#     print(i)\n",
    "    words.count(i)\n",
    "#     print(i,':', words.count(i))"
   ]
  },
  {
   "cell_type": "markdown",
   "metadata": {},
   "source": [
    "### 과제2"
   ]
  },
  {
   "cell_type": "code",
   "execution_count": 4,
   "metadata": {},
   "outputs": [],
   "source": [
    "data = [-12, 3, -9, 5, 8, -2, 0, -8, 3, 10]"
   ]
  },
  {
   "cell_type": "code",
   "execution_count": 5,
   "metadata": {},
   "outputs": [
    {
     "name": "stdout",
     "output_type": "stream",
     "text": [
      "가장 큰 수:  10\n"
     ]
    }
   ],
   "source": [
    "maxdata = data[0]\n",
    "for i in data:\n",
    "    if i > maxdata:\n",
    "        maxdata = i\n",
    "                \n",
    "print('가장 큰 수: ', maxdata)"
   ]
  },
  {
   "cell_type": "code",
   "execution_count": 6,
   "metadata": {},
   "outputs": [
    {
     "name": "stdout",
     "output_type": "stream",
     "text": [
      "합계; 8, 평균: 1.60\n"
     ]
    }
   ],
   "source": [
    "sum = 0\n",
    "i = 1\n",
    "cnt = 0\n",
    "while i < len(data)+1:\n",
    "    \n",
    "    if i % 2 == 0:\n",
    "        sum += data[i-1]\n",
    "        cnt += 1\n",
    "#         print(i, data[i-1])\n",
    "    i += 1\n",
    "avg = sum / cnt\n",
    "print('합계; %d, 평균: %.2f'  %(sum, avg))"
   ]
  },
  {
   "cell_type": "code",
   "execution_count": 28,
   "metadata": {},
   "outputs": [
    {
     "name": "stdout",
     "output_type": "stream",
     "text": [
      "None\n"
     ]
    }
   ],
   "source": [
    "data2 = [-12, 3, -9, 5, 8, -2, 0, -8, 3, 10]\n",
    "print(data2.sort(reverse=True))"
   ]
  },
  {
   "cell_type": "code",
   "execution_count": null,
   "metadata": {},
   "outputs": [],
   "source": []
  }
 ],
 "metadata": {
  "kernelspec": {
   "display_name": "Python 3",
   "language": "python",
   "name": "python3"
  },
  "language_info": {
   "codemirror_mode": {
    "name": "ipython",
    "version": 3
   },
   "file_extension": ".py",
   "mimetype": "text/x-python",
   "name": "python",
   "nbconvert_exporter": "python",
   "pygments_lexer": "ipython3",
   "version": "3.6.12"
  }
 },
 "nbformat": 4,
 "nbformat_minor": 4
}
